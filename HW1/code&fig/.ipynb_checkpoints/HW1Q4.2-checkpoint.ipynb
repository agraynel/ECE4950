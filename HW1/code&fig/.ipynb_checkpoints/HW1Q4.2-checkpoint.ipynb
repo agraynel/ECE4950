{
 "cells": [
  {
   "cell_type": "code",
   "execution_count": null,
   "metadata": {
    "collapsed": true
   },
   "outputs": [],
   "source": [
    "import matplotlib.pyplot as plt\n",
    "from sklearn.tree import DecisionTreeClassifier\n",
    "import pandas as pd\n",
    "import numpy as np\n",
    "from sklearn.metrics import accuracy_score\n",
    "\n",
    "Xtrn200 = pd.read_csv('X-trn-200.csv', header = None)\n",
    "Xtst200 = pd.read_csv('X-tst-200.csv', header = None)\n",
    "Ytrn200 = pd.read_csv('Y-trn-200.csv', header = None)\n",
    "Ytst200 = pd.read_csv('Y-tst-200.csv', header = None)\n",
    "\n",
    "entropy_200_train = []\n",
    "entropy_200_test = []\n",
    "gini_200_train = []\n",
    "gini_200_test = []\n",
    "\n",
    "for i in range(2, 16):\n",
    "    clf_entropy = DecisionTreeClassifier(criterion = 'entropy', max_depth= i, random_state = 0)\n",
    "    clf_entropy = clf_entropy.fit(Xtrn200, Ytrn200)\n",
    "    entropy_test = clf_entropy.predict(Xtst200)\n",
    "    entropy_200_train.append(clf_entropy.score(Xtrn200, Ytrn200))\n",
    "    entropy_200_test.append(accuracy_score(Ytst200, entropy_test))\n",
    "    \n",
    "    clf_gini = DecisionTreeClassifier(criterion = 'gini', max_depth= i, random_state = 0)\n",
    "    clf_gini = clf_gini.fit(Xtrn200, Ytrn200)\n",
    "    gini_test = clf_gini.predict(Xtst200)\n",
    "    gini_200_train.append(clf_gini.score(Xtrn200, Ytrn200))\n",
    "    gini_200_test.append(accuracy_score(Ytst200, gini_test))\n",
    "\n",
    "# Plotting decision regions\n",
    "\n",
    "plt.figure(figsize=(15, 5))\n",
    "plt.subplot(121)\n",
    "plt.plot(range(2, 16), entropy_200_train, c='blue', label='Entropy_train')\n",
    "plt.plot(range(2, 16), entropy_200_test, c='red', label='Entropy_test')\n",
    "plt.legend(loc=4)\n",
    "plt.ylim(0.78, 1.01)\n",
    "plt.ylabel('Mean accuracy')\n",
    "plt.xlabel('Max tree depth')\n",
    "plt.title('4.2(b) Entropy acurracy')\n",
    "\n",
    "plt.subplot(122)\n",
    "plt.plot(range(2, 16), gini_200_train, c='blue', label='Gini_train')\n",
    "plt.plot(range(2, 16), gini_200_test, c='red', label='Gini_test')\n",
    "plt.legend(loc=4)\n",
    "plt.ylim(0.8, 1.01)\n",
    "plt.ylabel('Mean accuracy')\n",
    "plt.xlabel('Max tree depth')\n",
    "plt.title('4.2(c) Gini acurracy')\n",
    "\n",
    "plt.show()"
   ]
  }
 ],
 "metadata": {
  "kernelspec": {
   "display_name": "Python [default]",
   "language": "python",
   "name": "python3"
  },
  "language_info": {
   "codemirror_mode": {
    "name": "ipython",
    "version": 3
   },
   "file_extension": ".py",
   "mimetype": "text/x-python",
   "name": "python",
   "nbconvert_exporter": "python",
   "pygments_lexer": "ipython3",
   "version": "3.5.2"
  }
 },
 "nbformat": 4,
 "nbformat_minor": 1
}
