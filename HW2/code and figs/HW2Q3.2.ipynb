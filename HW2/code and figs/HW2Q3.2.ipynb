{
 "cells": [
  {
   "cell_type": "code",
   "execution_count": 1,
   "metadata": {
    "collapsed": false
   },
   "outputs": [
    {
     "name": "stdout",
     "output_type": "stream",
     "text": [
      "inf 0.901283333333 0.902\n"
     ]
    }
   ],
   "source": [
    "#3.2 smoothness parameter is infinity\n",
    "import csv\n",
    "import matplotlib.pyplot as plt\n",
    "from sklearn.naive_bayes import MultinomialNB\n",
    "import pandas as pd\n",
    "import numpy as np\n",
    "from sklearn.metrics import accuracy_score\n",
    "from sklearn import datasets\n",
    "from sklearn.datasets import fetch_mldata\n",
    "\n",
    "## Loading data\n",
    "mnist = fetch_mldata('MNIST-original')\n",
    "train, test = mnist.data[0:60000, :], mnist.data[60000:, :]\n",
    "X_trn, y_trn = mnist.data[0:60000, :], mnist.target[0:60000]\n",
    "X_tst, y_tst = mnist.data[60000:, :], mnist.target[60000:]\n",
    "\n",
    "trainError = [];\n",
    "testError = [];\n",
    "clf = MultinomialNB(alpha = float(\"inf\"), class_prior = None, fit_prior = True)\n",
    "clf = clf.fit(X_trn,y_trn)\n",
    "tst = clf.predict(X_tst)\n",
    "accuracy = clf.score(X_trn, y_trn)\n",
    "testAccuracy = accuracy_score(y_tst, tst)\n",
    "trainError.append(1 - accuracy)\n",
    "testError.append(1 - testAccuracy)\n",
    "print(float(\"inf\"), 1 - accuracy, 1 - testAccuracy)\n",
    "\n"
   ]
  },
  {
   "cell_type": "code",
   "execution_count": null,
   "metadata": {
    "collapsed": true
   },
   "outputs": [],
   "source": []
  }
 ],
 "metadata": {
  "anaconda-cloud": {},
  "kernelspec": {
   "display_name": "Python [default]",
   "language": "python",
   "name": "python3"
  },
  "language_info": {
   "codemirror_mode": {
    "name": "ipython",
    "version": 3
   },
   "file_extension": ".py",
   "mimetype": "text/x-python",
   "name": "python",
   "nbconvert_exporter": "python",
   "pygments_lexer": "ipython3",
   "version": "3.5.2"
  }
 },
 "nbformat": 4,
 "nbformat_minor": 1
}
