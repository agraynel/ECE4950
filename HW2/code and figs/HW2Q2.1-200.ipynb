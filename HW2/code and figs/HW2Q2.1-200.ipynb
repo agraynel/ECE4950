{
 "cells": [
  {
   "cell_type": "code",
   "execution_count": 1,
   "metadata": {
    "collapsed": false
   },
   "outputs": [
    {
     "name": "stdout",
     "output_type": "stream",
     "text": [
      "0.964769647696\n"
     ]
    }
   ],
   "source": [
    "#2.1 Gaussian Naive Bayes\n",
    "#on piazza, TA said only using entropy criterion is enough\n",
    "#read 200 files\n",
    "#CREDITS: http://scikit-learn.org/stable/modules/generated/sklearn.naive_bayes.GaussianNB.html#sklearn.naive_bayes.GaussianNB.partial_fit\n",
    "\n",
    "import matplotlib.pyplot as plt\n",
    "from sklearn.naive_bayes import GaussianNB\n",
    "import pandas as pd\n",
    "import numpy as np\n",
    "from sklearn.metrics import accuracy_score\n",
    "\n",
    "#this is the path of dataset\n",
    "Xtrn = pd.read_csv('/Users/Agraynel/Desktop/ECE4950/homework/hw2/dataset/X-trn-200.csv', header = None)\n",
    "Xtst = pd.read_csv('/Users/Agraynel/Desktop/ECE4950/homework/hw2/dataset/X-tst-200.csv', header = None)\n",
    "Ytrn = pd.read_csv('/Users/Agraynel/Desktop/ECE4950/homework/hw2/dataset/Y-trn-200.csv', header = None)\n",
    "Ytst = pd.read_csv('/Users/Agraynel/Desktop/ECE4950/homework/hw2/dataset/Y-tst-200.csv', header = None)\n",
    "#NOTICE: change the file name to -50.csv, -200.csv, -400.csv respectively.\n",
    "\n",
    "clf = GaussianNB()\n",
    "clf.fit(Xtrn, Ytrn.values.ravel())\n",
    "#CREDITS: http://stackoverflow.com/questions/34165731/a-column-vector-y-was-passed-when-a-1d-array-was-expected\n",
    "#GaussianNB(priors=None)\n",
    "# train with Gaussian\n",
    "test = clf.predict(Xtst)\n",
    "train_accuracy = clf.score(Xtrn, Ytrn)\n",
    "test_accuracy = accuracy_score(Ytst, test)\n",
    "\n",
    "print(test_accuracy)"
   ]
  },
  {
   "cell_type": "code",
   "execution_count": null,
   "metadata": {
    "collapsed": true
   },
   "outputs": [],
   "source": []
  }
 ],
 "metadata": {
  "anaconda-cloud": {},
  "kernelspec": {
   "display_name": "Python [default]",
   "language": "python",
   "name": "python3"
  },
  "language_info": {
   "codemirror_mode": {
    "name": "ipython",
    "version": 3
   },
   "file_extension": ".py",
   "mimetype": "text/x-python",
   "name": "python",
   "nbconvert_exporter": "python",
   "pygments_lexer": "ipython3",
   "version": "3.5.2"
  }
 },
 "nbformat": 4,
 "nbformat_minor": 1
}
