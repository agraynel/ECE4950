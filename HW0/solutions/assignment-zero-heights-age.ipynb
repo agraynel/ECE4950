{
 "cells": [
  {
   "cell_type": "code",
   "execution_count": 1,
   "metadata": {
    "collapsed": false
   },
   "outputs": [
    {
     "name": "stdout",
     "output_type": "stream",
     "text": [
      "The number of correctly classified examples is 2\n"
     ]
    }
   ],
   "source": [
    "import csv\n",
    " \n",
    "ifile = open('heights-age-test.csv', 'r')\n",
    "reader = csv.reader(ifile)\n",
    "\n",
    "num_correct = 0\n",
    "for row in reader:\n",
    "    if int(row[2])==1:\n",
    "        if int(row[1])>8:\n",
    "            output=1\n",
    "        else:\n",
    "            output=0\n",
    "    else:\n",
    "        if int(row[1])>11:\n",
    "            output=1\n",
    "        else:\n",
    "            output=0\n",
    "    if output == int(row[3]):\n",
    "        num_correct = num_correct+1\n",
    "print('The number of correctly classified examples is', num_correct)\n",
    "        \n",
    "ifile.close()"
   ]
  },
  {
   "cell_type": "code",
   "execution_count": 2,
   "metadata": {
    "collapsed": false
   },
   "outputs": [
    {
     "name": "stdout",
     "output_type": "stream",
     "text": [
      "The number of correctly classified examples is 2\n"
     ]
    }
   ],
   "source": [
    "import numpy as np\n",
    "\n",
    "data = np.genfromtxt('heights-age-test.csv', delimiter=',')\n",
    "\n",
    "r, c = data.shape\n",
    "\n",
    "num_correct = 0\n",
    "\n",
    "for i in range(r):\n",
    "    if data[i][2]==1:\n",
    "        if data[i][1]>8:\n",
    "            output=1\n",
    "        else:\n",
    "            output=0\n",
    "    else:\n",
    "        if data[i][1]>11:\n",
    "            output=1\n",
    "        else:\n",
    "            output=0\n",
    "    if output == data[i][3]:\n",
    "        num_correct = num_correct+1\n",
    "print('The number of correctly classified examples is', num_correct)\n",
    "      "
   ]
  },
  {
   "cell_type": "code",
   "execution_count": null,
   "metadata": {
    "collapsed": true
   },
   "outputs": [],
   "source": []
  }
 ],
 "metadata": {
  "kernelspec": {
   "display_name": "Python 3",
   "language": "python",
   "name": "python3"
  },
  "language_info": {
   "codemirror_mode": {
    "name": "ipython",
    "version": 3
   },
   "file_extension": ".py",
   "mimetype": "text/x-python",
   "name": "python",
   "nbconvert_exporter": "python",
   "pygments_lexer": "ipython3",
   "version": "3.5.2"
  }
 },
 "nbformat": 4,
 "nbformat_minor": 2
}
